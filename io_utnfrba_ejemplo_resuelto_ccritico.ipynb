{
 "cells": [
  {
   "cell_type": "markdown",
   "metadata": {},
   "source": [
    "# Ejercicio de Camino Crítico"
   ]
  },
  {
   "cell_type": "markdown",
   "metadata": {},
   "source": [
    "Primero importamos las librerías de Networkx para trabajar con grafos y Matplotlib para trabajar con la impresión en pantalla de figuras"
   ]
  },
  {
   "cell_type": "code",
   "execution_count": 3,
   "metadata": {
    "collapsed": true
   },
   "outputs": [],
   "source": [
    "import networkx as nx\n",
    "import matplotlib.pyplot as plt"
   ]
  },
  {
   "cell_type": "markdown",
   "metadata": {},
   "source": [
    "Luego creamos una variable G1 en formato nx.DiGraph() vacía. En esta variable guardaremos el grafo que queremos crear."
   ]
  },
  {
   "cell_type": "code",
   "execution_count": 9,
   "metadata": {
    "collapsed": true
   },
   "outputs": [],
   "source": [
    "G1=nx.DiGraph()"
   ]
  },
  {
   "cell_type": "markdown",
   "metadata": {},
   "source": [
    "Ahora creamos una lista de los nodos que tendrá el grafo G1 con la función \"add_node('nombre_del_nodo')\""
   ]
  },
  {
   "cell_type": "code",
   "execution_count": 10,
   "metadata": {
    "collapsed": true
   },
   "outputs": [],
   "source": [
    "G1.add_node(1)\n",
    "G1.add_node(2)\n",
    "G1.add_node(3)\n",
    "G1.add_node(4)\n",
    "G1.add_node(5)\n",
    "G1.add_node(6)"
   ]
  },
  {
   "cell_type": "markdown",
   "metadata": {},
   "source": [
    "Para visualizar los nodos del grafo G1 simplemente imprimimos en pantalla G1.nodes()"
   ]
  },
  {
   "cell_type": "code",
   "execution_count": 11,
   "metadata": {},
   "outputs": [
    {
     "data": {
      "text/plain": [
       "[1, 2, 3, 4, 5, 6]"
      ]
     },
     "execution_count": 11,
     "metadata": {},
     "output_type": "execute_result"
    }
   ],
   "source": [
    "G1.nodes()"
   ]
  },
  {
   "cell_type": "markdown",
   "metadata": {},
   "source": [
    "Ahora procedemos a crear los arcos ('edges' en inglés) del grafo G1 con la función \"add_edge('nodo_origen, nodo_destino', weight = duración_del_arco/tarea)\""
   ]
  },
  {
   "cell_type": "code",
   "execution_count": 12,
   "metadata": {
    "collapsed": true
   },
   "outputs": [],
   "source": [
    "G1.add_edge(1, 2, weight = 2.0)\n",
    "G1.add_edge(1, 3, weight = 4.0)\n",
    "G1.add_edge(2, 3, weight = 1.0)\n",
    "G1.add_edge(2, 4, weight = 4.0)\n",
    "G1.add_edge(2, 5, weight = 2.0)\n",
    "G1.add_edge(3, 5, weight = 3.0)\n",
    "G1.add_edge(4, 6, weight = 2.0)\n",
    "G1.add_edge(5, 4, weight = 3.0)\n",
    "G1.add_edge(5, 6, weight = 2.0)"
   ]
  },
  {
   "cell_type": "markdown",
   "metadata": {},
   "source": [
    "Para visualizar la lista de arcos nodo-a-nodo se procede a imprimir por pantalla con .edges()"
   ]
  },
  {
   "cell_type": "code",
   "execution_count": 13,
   "metadata": {},
   "outputs": [
    {
     "data": {
      "text/plain": [
       "[(1, 2), (1, 3), (2, 3), (2, 4), (2, 5), (3, 5), (4, 6), (5, 4), (5, 6)]"
      ]
     },
     "execution_count": 13,
     "metadata": {},
     "output_type": "execute_result"
    }
   ],
   "source": [
    "G1.edges()"
   ]
  },
  {
   "cell_type": "markdown",
   "metadata": {},
   "source": [
    "Ahora que el grafo G1 esta construido procedemos a aplicar el algoritmo Dijkstra para encontrar la ruta mas corta en un grafo (es decir el camino crítico). Se indica en la primera posición el grafo a procesar, G1. En la segunda posición el nodo inicial. En la tercera posición el nodo de finalización."
   ]
  },
  {
   "cell_type": "code",
   "execution_count": 15,
   "metadata": {
    "collapsed": true
   },
   "outputs": [],
   "source": [
    "camino_critico = nx.dijkstra_path(G1,source = 1, target = 6)"
   ]
  },
  {
   "cell_type": "markdown",
   "metadata": {},
   "source": [
    "Una vez identificado el camino crítico procedemos a obtener la duración del camino crítico, que será la duración del proyecto."
   ]
  },
  {
   "cell_type": "code",
   "execution_count": 17,
   "metadata": {
    "collapsed": true
   },
   "outputs": [],
   "source": [
    "duracion_proyecto = nx.dijkstra_path_length(G1,source = 1, target = 6)"
   ]
  },
  {
   "cell_type": "markdown",
   "metadata": {},
   "source": [
    "Ahora imprimimos por pantalla la duración del proyecto y el camino crítico."
   ]
  },
  {
   "cell_type": "code",
   "execution_count": 19,
   "metadata": {},
   "outputs": [
    {
     "name": "stdout",
     "output_type": "stream",
     "text": [
      "El camino crítico del proyecto contiene las tareas [1, 2, 5, 6]\n"
     ]
    }
   ],
   "source": [
    "print(\"El camino crítico del proyecto contiene las tareas \" + str(camino_critico))"
   ]
  },
  {
   "cell_type": "code",
   "execution_count": 21,
   "metadata": {},
   "outputs": [
    {
     "name": "stdout",
     "output_type": "stream",
     "text": [
      "El camino crítico del proyecto tiene una duración de 6.0 dias\n"
     ]
    }
   ],
   "source": [
    "print(\"El camino crítico del proyecto tiene una duración de \" + str(duracion_proyecto) + \" dias\")"
   ]
  },
  {
   "cell_type": "markdown",
   "metadata": {},
   "source": [
    "Ahora procedemos a imprimir por pantalla el grafo para visualizarlo."
   ]
  },
  {
   "cell_type": "code",
   "execution_count": 23,
   "metadata": {},
   "outputs": [
    {
     "data": {
      "image/png": "[encoded data removed]",
      "text/plain": [
       "<matplotlib.figure.Figure at 0x11774fcc0>"
      ]
     },
     "metadata": {},
     "output_type": "display_data"
    }
   ],
   "source": [
    "# Los pesos de cada arco se almacenan en un diccionario arc_weight\n",
    "arc_weight=nx.get_edge_attributes(G1,'weight')\n",
    "# Se crea una lista de los arcos del camino critico y se los guarda como red_edges\n",
    "red_edges = list(zip(camino_critico,camino_critico[1:]))\n",
    "# Si un nodo esta en el camino crítico se lo pinta de rojo, si no esta en el CC se lo pinta de verde\n",
    "node_col = ['green' if not node in camino_critico else 'red' for node in G1.nodes()]\n",
    "#  Si un arco se encuentra en el camino critico se lo pinta de rojo. Caso contrario se pinta de negro.\n",
    "edge_col = ['black' if not edge in red_edges else 'red' for edge in G1.edges()]\n",
    "# Con la función draw_network graficamos el grafo.\n",
    "nx.draw_networkx(G1, nx.shell_layout(G1),node_color= node_col,edge_color= edge_col, edge_labels = arc_weight, node_size=450)\n",
    "# Removemos los ejes de la visualización para que quede mas limpio\n",
    "plt.axis('off')\n",
    "plt.show()"
   ]
  }
 ],
 "metadata": {
  "kernelspec": {
   "display_name": "Python 3",
   "language": "python",
   "name": "python3"
  },
  "language_info": {
   "codemirror_mode": {
    "name": "ipython",
    "version": 3
   },
   "file_extension": ".py",
   "mimetype": "text/x-python",
   "name": "python",
   "nbconvert_exporter": "python",
   "pygments_lexer": "ipython3",
   "version": "3.6.1"
  }
 },
 "nbformat": 4,
 "nbformat_minor": 2
}
